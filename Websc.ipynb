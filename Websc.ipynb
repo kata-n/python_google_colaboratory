{
  "nbformat": 4,
  "nbformat_minor": 0,
  "metadata": {
    "colab": {
      "name": "Websc.ipynb",
      "provenance": [],
      "collapsed_sections": [],
      "authorship_tag": "ABX9TyNs8JlC4ZFy0BULbtmhJXS4",
      "include_colab_link": true
    },
    "kernelspec": {
      "name": "python3",
      "display_name": "Python 3"
    }
  },
  "cells": [
    {
      "cell_type": "markdown",
      "metadata": {
        "id": "view-in-github",
        "colab_type": "text"
      },
      "source": [
        "<a href=\"https://colab.research.google.com/github/kata-n/python_google_colaboratory/blob/main/Websc.ipynb\" target=\"_parent\"><img src=\"https://colab.research.google.com/assets/colab-badge.svg\" alt=\"Open In Colab\"/></a>"
      ]
    },
    {
      "cell_type": "code",
      "metadata": {
        "colab": {
          "base_uri": "https://localhost:8080/"
        },
        "id": "TpRDR5NGdjEB",
        "outputId": "5ce0dbc5-981a-49ba-a581-65b706738641"
      },
      "source": [
        "#  ライブラリをインポート \n",
        "from bs4 import BeautifulSoup\n",
        "import requests\n",
        "url = \"https://dempagumi.tokyo/\"\n",
        "r = requests.get(url)\n",
        "soup = BeautifulSoup(r.text, \"lxml\")\n",
        "h2_list = soup.find_all('h2')\n",
        "h3_list = soup.find_all('h3')\n",
        "for h2 in h2_list:\n",
        "  print(h2.text)\n",
        "for h3 in h3_list:\n",
        "  print(h3.text)"
      ],
      "execution_count": 1,
      "outputs": [
        {
          "output_type": "stream",
          "text": [
            "NEWS\n",
            "ONLINE STORE\n",
            "Twitter\n",
            "Facebook\n",
            "「THE FAMILY TOUR 2020 ONLINE FINAL!! ねぇ聞いて?宇宙を救うのはきっと……」の映像化が決定！！\n",
            "ねもぺろ from でんぱ組.inc / LAVILITH「キュンキュンですっ♡/ 365番目のエピローグ」発売記念イベント開催決定！\n",
            "「ねもぺろ」「LAVILITH」X’masスプリットシングル、曲名タイトル/CDジャケット公開&特典内容決定！\n",
            "【8/5(水)発売】でんぱ組.inc LIVE Blu-ray/DVD、ねもぺろニューシングルのCDジャケット写真公開！！\n",
            "完全テレワーク制作！新曲「なんと！世界公認 引きこもり！」Music Video公開！\n",
            "4.15発売 New Album「愛が地球救うんさ！だってでんぱ組.incはファミリーでしょ」\n"
          ],
          "name": "stdout"
        }
      ]
    }
  ]
}