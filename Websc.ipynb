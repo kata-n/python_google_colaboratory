{
  "nbformat": 4,
  "nbformat_minor": 0,
  "metadata": {
    "colab": {
      "name": "Websc.ipynb",
      "provenance": [],
      "authorship_tag": "ABX9TyPlXgC2LMDQIxXnEH8U/l0p"
    },
    "kernelspec": {
      "name": "python3",
      "display_name": "Python 3"
    }
  },
  "cells": [
    {
      "cell_type": "code",
      "metadata": {
        "colab": {
          "base_uri": "https://localhost:8080/"
        },
        "id": "TpRDR5NGdjEB",
        "outputId": "81366021-2fa9-4e9b-c1a4-51e2d2561e80"
      },
      "source": [
        "#  ライブラリをインポート \n",
        "from bs4 import BeautifulSoup\n",
        "import requests\n",
        "url = \"https://dempagumi.tokyo/\"\n",
        "r = requests.get(url)\n",
        "soup = BeautifulSoup(r.text, \"lxml\")\n",
        "h2_list = soup.find_all('h2')\n",
        "for h2 in h2_list:\n",
        "  print(h2.text)"
      ],
      "execution_count": 3,
      "outputs": [
        {
          "output_type": "stream",
          "text": [
            "SCHEDULE\n",
            "NEWS\n",
            "ONLINE STORE\n",
            "Twitter\n",
            "Facebook\n"
          ],
          "name": "stdout"
        }
      ]
    }
  ]
}